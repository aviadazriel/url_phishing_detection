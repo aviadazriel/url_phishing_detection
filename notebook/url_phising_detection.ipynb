{
 "cells": [
  {
   "cell_type": "code",
   "execution_count": 90,
   "metadata": {},
   "outputs": [],
   "source": [
    "import pandas as pd\n",
    "import numpy as np\n",
    "import whois\n",
    "from urllib.parse import urlparse,urlencode\n",
    "import ipaddress\n",
    "import re\n",
    "import math\n",
    "import requests\n",
    "from urllib.parse import urlparse,urlencode\n",
    "from datetime import datetime\n",
    "from tqdm.notebook import tqdm\n",
    "from collections import Counter\n",
    "from sklearn.preprocessing import LabelBinarizer\n",
    "from sklearn.neural_network import MLPClassifier\n",
    "from sklearn.ensemble import RandomForestClassifier\n",
    "from sklearn.tree import DecisionTreeClassifier\n",
    "from sklearn.model_selection import GridSearchCV\n",
    "from sklearn.metrics import roc_curve, auc\n",
    "from sklearn.metrics import accuracy_score\n",
    "from sklearn.metrics import classification_report, confusion_matrix\n",
    "from prettytable import PrettyTable\n"
   ]
  },
  {
   "cell_type": "markdown",
   "metadata": {},
   "source": [
    "# datasets\n"
   ]
  },
  {
   "cell_type": "code",
   "execution_count": 237,
   "metadata": {},
   "outputs": [
    {
     "data": {
      "text/html": [
       "<div>\n",
       "<style scoped>\n",
       "    .dataframe tbody tr th:only-of-type {\n",
       "        vertical-align: middle;\n",
       "    }\n",
       "\n",
       "    .dataframe tbody tr th {\n",
       "        vertical-align: top;\n",
       "    }\n",
       "\n",
       "    .dataframe thead th {\n",
       "        text-align: right;\n",
       "    }\n",
       "</style>\n",
       "<table border=\"1\" class=\"dataframe\">\n",
       "  <thead>\n",
       "    <tr style=\"text-align: right;\">\n",
       "      <th></th>\n",
       "      <th>url</th>\n",
       "      <th>label</th>\n",
       "    </tr>\n",
       "  </thead>\n",
       "  <tbody>\n",
       "    <tr>\n",
       "      <th>0</th>\n",
       "      <td>http://v2.email-marketing.adminsimple.com/trac...</td>\n",
       "      <td>1</td>\n",
       "    </tr>\n",
       "    <tr>\n",
       "      <th>1</th>\n",
       "      <td>http://bid.openx.net/json?amp;amp;amp;amp;cid;...</td>\n",
       "      <td>1</td>\n",
       "    </tr>\n",
       "    <tr>\n",
       "      <th>2</th>\n",
       "      <td>http://webmail2.centurytel.net/hwebmail/servic...</td>\n",
       "      <td>1</td>\n",
       "    </tr>\n",
       "    <tr>\n",
       "      <th>3</th>\n",
       "      <td>http://www.google.com.ng/imgres?imgurl=http://...</td>\n",
       "      <td>1</td>\n",
       "    </tr>\n",
       "    <tr>\n",
       "      <th>4</th>\n",
       "      <td>http://webmail2.centurytel.net/hwebmail/servic...</td>\n",
       "      <td>1</td>\n",
       "    </tr>\n",
       "    <tr>\n",
       "      <th>...</th>\n",
       "      <td>...</td>\n",
       "      <td>...</td>\n",
       "    </tr>\n",
       "    <tr>\n",
       "      <th>5658</th>\n",
       "      <td>http://www.formbuddy.com/cgi-bin/formdisp.pl?u...</td>\n",
       "      <td>1</td>\n",
       "    </tr>\n",
       "    <tr>\n",
       "      <th>5659</th>\n",
       "      <td>http://www.formbuddy.com/cgi-bin/formdisp.pl?u...</td>\n",
       "      <td>1</td>\n",
       "    </tr>\n",
       "    <tr>\n",
       "      <th>5660</th>\n",
       "      <td>https://sites.google.com/site/libretyreserve/</td>\n",
       "      <td>1</td>\n",
       "    </tr>\n",
       "    <tr>\n",
       "      <th>5661</th>\n",
       "      <td>http://sites.google.com/site/habbotuttogratis</td>\n",
       "      <td>1</td>\n",
       "    </tr>\n",
       "    <tr>\n",
       "      <th>5663</th>\n",
       "      <td>http://creditiperhabbogratissicuro100.blogspot...</td>\n",
       "      <td>1</td>\n",
       "    </tr>\n",
       "  </tbody>\n",
       "</table>\n",
       "<p>15615 rows × 2 columns</p>\n",
       "</div>"
      ],
      "text/plain": [
       "                                                    url  label\n",
       "0     http://v2.email-marketing.adminsimple.com/trac...      1\n",
       "1     http://bid.openx.net/json?amp;amp;amp;amp;cid;...      1\n",
       "2     http://webmail2.centurytel.net/hwebmail/servic...      1\n",
       "3     http://www.google.com.ng/imgres?imgurl=http://...      1\n",
       "4     http://webmail2.centurytel.net/hwebmail/servic...      1\n",
       "...                                                 ...    ...\n",
       "5658  http://www.formbuddy.com/cgi-bin/formdisp.pl?u...      1\n",
       "5659  http://www.formbuddy.com/cgi-bin/formdisp.pl?u...      1\n",
       "5660      https://sites.google.com/site/libretyreserve/      1\n",
       "5661      http://sites.google.com/site/habbotuttogratis      1\n",
       "5663  http://creditiperhabbogratissicuro100.blogspot...      1\n",
       "\n",
       "[15615 rows x 2 columns]"
      ]
     },
     "execution_count": 237,
     "metadata": {},
     "output_type": "execute_result"
    }
   ],
   "source": [
    "# https://www.phishtank.com/developer_info.php\n",
    "df_phishing = pd.read_csv('FinalDataset/URL/phishing_dataset.csv',names = [\"url\"])\n",
    "df_phishing =  pd.concat([df_phishing, pd.read_csv('phising_tank.csv')[[\"url\"]]])\n",
    "df_phishing[\"label\"] = 1\n",
    "df_phishing = df_phishing.drop_duplicates()\n",
    "df_phishing"
   ]
  },
  {
   "cell_type": "code",
   "execution_count": 240,
   "metadata": {},
   "outputs": [
    {
     "data": {
      "text/html": [
       "<div>\n",
       "<style scoped>\n",
       "    .dataframe tbody tr th:only-of-type {\n",
       "        vertical-align: middle;\n",
       "    }\n",
       "\n",
       "    .dataframe tbody tr th {\n",
       "        vertical-align: top;\n",
       "    }\n",
       "\n",
       "    .dataframe thead th {\n",
       "        text-align: right;\n",
       "    }\n",
       "</style>\n",
       "<table border=\"1\" class=\"dataframe\">\n",
       "  <thead>\n",
       "    <tr style=\"text-align: right;\">\n",
       "      <th></th>\n",
       "      <th>url</th>\n",
       "      <th>label</th>\n",
       "    </tr>\n",
       "  </thead>\n",
       "  <tbody>\n",
       "    <tr>\n",
       "      <th>0</th>\n",
       "      <td>http://graphicriver.net/search?date=this-month...</td>\n",
       "      <td>0</td>\n",
       "    </tr>\n",
       "    <tr>\n",
       "      <th>1</th>\n",
       "      <td>https://foursquare.com/v/%D1%81%D0%B0%D0%B2%D0...</td>\n",
       "      <td>0</td>\n",
       "    </tr>\n",
       "    <tr>\n",
       "      <th>2</th>\n",
       "      <td>http://shop-pro.jp/magazine/wp-content/themes/...</td>\n",
       "      <td>0</td>\n",
       "    </tr>\n",
       "    <tr>\n",
       "      <th>3</th>\n",
       "      <td>http://motthegioi.vn/the-gioi-xe/o-to-chat-luo...</td>\n",
       "      <td>0</td>\n",
       "    </tr>\n",
       "    <tr>\n",
       "      <th>4</th>\n",
       "      <td>http://tobogo.net/cdsb/board.php?board=dailyst...</td>\n",
       "      <td>0</td>\n",
       "    </tr>\n",
       "    <tr>\n",
       "      <th>...</th>\n",
       "      <td>...</td>\n",
       "      <td>...</td>\n",
       "    </tr>\n",
       "    <tr>\n",
       "      <th>15610</th>\n",
       "      <td>http://otomoto.pl/oferta/zuraw-farma-niab-pl-d...</td>\n",
       "      <td>0</td>\n",
       "    </tr>\n",
       "    <tr>\n",
       "      <th>15611</th>\n",
       "      <td>https://medium.com/thelist/why-i-m-returning-t...</td>\n",
       "      <td>0</td>\n",
       "    </tr>\n",
       "    <tr>\n",
       "      <th>15612</th>\n",
       "      <td>http://babal.net/books/view/406/%D9%82%D8%A7%D...</td>\n",
       "      <td>0</td>\n",
       "    </tr>\n",
       "    <tr>\n",
       "      <th>15613</th>\n",
       "      <td>http://otomoto.pl/oferta/bmw-seria-3-bmw-e46-c...</td>\n",
       "      <td>0</td>\n",
       "    </tr>\n",
       "    <tr>\n",
       "      <th>15614</th>\n",
       "      <td>http://bdnews24.com/bangladesh/2015/05/12/susp...</td>\n",
       "      <td>0</td>\n",
       "    </tr>\n",
       "  </tbody>\n",
       "</table>\n",
       "<p>15615 rows × 2 columns</p>\n",
       "</div>"
      ],
      "text/plain": [
       "                                                     url  label\n",
       "0      http://graphicriver.net/search?date=this-month...      0\n",
       "1      https://foursquare.com/v/%D1%81%D0%B0%D0%B2%D0...      0\n",
       "2      http://shop-pro.jp/magazine/wp-content/themes/...      0\n",
       "3      http://motthegioi.vn/the-gioi-xe/o-to-chat-luo...      0\n",
       "4      http://tobogo.net/cdsb/board.php?board=dailyst...      0\n",
       "...                                                  ...    ...\n",
       "15610  http://otomoto.pl/oferta/zuraw-farma-niab-pl-d...      0\n",
       "15611  https://medium.com/thelist/why-i-m-returning-t...      0\n",
       "15612  http://babal.net/books/view/406/%D9%82%D8%A7%D...      0\n",
       "15613  http://otomoto.pl/oferta/bmw-seria-3-bmw-e46-c...      0\n",
       "15614  http://bdnews24.com/bangladesh/2015/05/12/susp...      0\n",
       "\n",
       "[15615 rows x 2 columns]"
      ]
     },
     "execution_count": 240,
     "metadata": {},
     "output_type": "execute_result"
    }
   ],
   "source": [
    "df_leg_link = pd.read_csv('FinalDataset/URL/Benign_list_big_final.csv',names = [\"url\"])\n",
    "df_leg_link = df_leg_link.sample(n = len(df_phishing), random_state = 12).copy()\n",
    "df_leg_link = df_leg_link.reset_index(drop=True)\n",
    "df_leg_link[\"label\"] = 0\n",
    "df_leg_link"
   ]
  },
  {
   "cell_type": "code",
   "execution_count": 241,
   "metadata": {},
   "outputs": [],
   "source": [
    "df_phis_leg = pd.concat([df_phishing[[\"url\",\"label\"]],df_leg_link])\n",
    "df_phis_leg = df_phis_leg.reset_index()"
   ]
  },
  {
   "cell_type": "markdown",
   "metadata": {},
   "source": [
    "# Feature extraction"
   ]
  },
  {
   "cell_type": "markdown",
   "metadata": {},
   "source": [
    "![title](./url_hirearchy.png)"
   ]
  },
  {
   "cell_type": "code",
   "execution_count": 242,
   "metadata": {},
   "outputs": [],
   "source": [
    "\n",
    "class UrlFeaturizer(object):\n",
    "    def __init__(self, url):\n",
    "        self.url = url\n",
    "        self.domain = url.split('//')[-1].split('/')[0]\n",
    "        self.today = datetime.now()\n",
    "\n",
    "        try:\n",
    "            self.whois = None  # whois.whois(self.domain)\n",
    "        except:\n",
    "            self.whois = None\n",
    "\n",
    "        try:\n",
    "            self.response = None #requests.get(self.url)\n",
    "        except:\n",
    "            self.response = None\n",
    "\n",
    "    ## URL string Features\n",
    "    def entropy(self):\n",
    "        prob = [float(self.url.count(c)) / len(self.url) for c in dict.fromkeys(list(self.url))]\n",
    "        entropy = sum([(p * math.log(p) / math.log(2.0)) for p in prob])\n",
    "        return entropy\n",
    "\n",
    "    def num_digits(self):\n",
    "        digits = [i for i in self.url if i.isdigit()]\n",
    "        return len(digits)\n",
    "\n",
    "    def url_length(self):\n",
    "        parse = urlparse(self.url)\n",
    "        url = parse.netloc + parse.path\n",
    "        return len(url)\n",
    "\n",
    "    def num_parameters(self):\n",
    "        params = urlparse(self.url).query.split('&')\n",
    "        return len(params)\n",
    "\n",
    "    def num_fragments(self):\n",
    "        fragments = urlparse(self.url).fragment.split('#')\n",
    "        return len(fragments)\n",
    "\n",
    "    def domain_extension(self):\n",
    "        ext = self.url.split('.')[-1].split('/')[0]\n",
    "        return ext\n",
    "\n",
    "    ## URL domain features\n",
    "\n",
    "    def has_https(self):\n",
    "        return 'https:' in self.url\n",
    "\n",
    "    def url_is_live(self):\n",
    "        return self.response == 200\n",
    "\n",
    "    def days_since_registration(self):\n",
    "        try:\n",
    "            if self.whois and 'creation_date' in self.whois:\n",
    "                if isinstance(self.whois['creation_date'], list):\n",
    "                    creation_date = self.whois['creation_date'][0]\n",
    "                else:\n",
    "                    creation_date = self.whois['creation_date']\n",
    "\n",
    "                diff = self.today - creation_date\n",
    "                diff = diff.days\n",
    "                return diff\n",
    "            else:\n",
    "                return 0\n",
    "        except:\n",
    "            print(self.url)\n",
    "            print(self.whois)\n",
    "            return None\n",
    "\n",
    "    def days_since_expiration(self):\n",
    "        try:\n",
    "            if self.whois and 'expiration_date' in self.whois:\n",
    "                if isinstance(self.whois['expiration_date'], list):\n",
    "                    expiration_date = self.whois['expiration_date'][0]\n",
    "                else:\n",
    "                    expiration_date = self.whois['expiration_date']\n",
    "\n",
    "                diff = expiration_date - self.today\n",
    "                diff = str(diff).split(' days')[0]\n",
    "                return diff\n",
    "            else:\n",
    "                return 0\n",
    "        except:\n",
    "            print('daysSinceExpiration')\n",
    "            print(self.url)\n",
    "            print(self.whois)\n",
    "            return None\n",
    "\n",
    "    def have_at_sign(self):\n",
    "        return 1 if \"@\" in self.url else 0\n",
    "\n",
    "    def url_depth(self):\n",
    "        s = urlparse(self.url).path.split('/')\n",
    "        depth = 0\n",
    "        for j in range(len(s)):\n",
    "            if len(s[j]) != 0:\n",
    "                depth = depth + 1\n",
    "        return depth\n",
    "\n",
    "    def redirection(self):\n",
    "        parse = urlparse(self.url)\n",
    "        url = parse.netloc + parse.path\n",
    "        return 0 if url.rfind('//') == -1 else 1\n",
    "\n",
    "    def num_dash(self):\n",
    "        return self.url.count('-')\n",
    "\n",
    "    def num_under_score(self):\n",
    "        return self.url.count('_')\n",
    "\n",
    "    def num_dots(self):\n",
    "        return self.url.count('.')\n",
    "\n",
    "    def get_page_rank(self):\n",
    "        raise NotImplementedError\n",
    "\n",
    "    def run(self):\n",
    "        data = {}\n",
    "\n",
    "        data['entropy'] = self.entropy()\n",
    "        data['num_digits'] = self.num_digits()\n",
    "        data['have_at_sign'] = self.have_at_sign()\n",
    "        data['url_length'] = self.url_length()\n",
    "        data['num_parameters'] = self.num_parameters()\n",
    "        data['has_https'] = self.has_https()\n",
    "        data['url_is_live'] = self.url_is_live()\n",
    "        data['url_depth'] = self.url_depth()\n",
    "        data['num_dots'] = self.num_dots()\n",
    "        data['redirection'] = self.redirection()\n",
    "        data['num_dash'] = self.num_dash()\n",
    "        data['num_under_score'] = self.num_under_score()\n",
    "        data['ext'] = self.domain_extension()\n",
    "        #         data['dsr'] = self.daysSinceRegistration()\n",
    "        #         data['dse'] = self.days_since_expiration()\n",
    "        return data"
   ]
  },
  {
   "cell_type": "code",
   "execution_count": 252,
   "metadata": {},
   "outputs": [
    {
     "data": {
      "application/vnd.jupyter.widget-view+json": {
       "model_id": "7c64c0fb0411406085cb38954c0ac407",
       "version_major": 2,
       "version_minor": 0
      },
      "text/plain": [
       "HBox(children=(HTML(value=''), FloatProgress(value=1.0, bar_style='info', layout=Layout(width='20px'), max=1.0…"
      ]
     },
     "metadata": {},
     "output_type": "display_data"
    },
    {
     "name": "stdout",
     "output_type": "stream",
     "text": [
      "\n"
     ]
    },
    {
     "data": {
      "text/html": [
       "<div>\n",
       "<style scoped>\n",
       "    .dataframe tbody tr th:only-of-type {\n",
       "        vertical-align: middle;\n",
       "    }\n",
       "\n",
       "    .dataframe tbody tr th {\n",
       "        vertical-align: top;\n",
       "    }\n",
       "\n",
       "    .dataframe thead th {\n",
       "        text-align: right;\n",
       "    }\n",
       "</style>\n",
       "<table border=\"1\" class=\"dataframe\">\n",
       "  <thead>\n",
       "    <tr style=\"text-align: right;\">\n",
       "      <th></th>\n",
       "      <th>index</th>\n",
       "      <th>url</th>\n",
       "      <th>label</th>\n",
       "      <th>entropy</th>\n",
       "      <th>num_digits</th>\n",
       "      <th>have_at_sign</th>\n",
       "      <th>url_length</th>\n",
       "      <th>num_parameters</th>\n",
       "      <th>has_https</th>\n",
       "      <th>url_is_live</th>\n",
       "      <th>...</th>\n",
       "      <th>num_under_score</th>\n",
       "      <th>ext</th>\n",
       "      <th>ext_relevant</th>\n",
       "      <th>com</th>\n",
       "      <th>general</th>\n",
       "      <th>htm</th>\n",
       "      <th>html</th>\n",
       "      <th>net</th>\n",
       "      <th>php</th>\n",
       "      <th>uk</th>\n",
       "    </tr>\n",
       "  </thead>\n",
       "  <tbody>\n",
       "    <tr>\n",
       "      <th>0</th>\n",
       "      <td>0</td>\n",
       "      <td>http://v2.email-marketing.adminsimple.com/trac...</td>\n",
       "      <td>1</td>\n",
       "      <td>-5.164845</td>\n",
       "      <td>45</td>\n",
       "      <td>0</td>\n",
       "      <td>45</td>\n",
       "      <td>6</td>\n",
       "      <td>False</td>\n",
       "      <td>False</td>\n",
       "      <td>...</td>\n",
       "      <td>1</td>\n",
       "      <td>com</td>\n",
       "      <td>com</td>\n",
       "      <td>1</td>\n",
       "      <td>0</td>\n",
       "      <td>0</td>\n",
       "      <td>0</td>\n",
       "      <td>0</td>\n",
       "      <td>0</td>\n",
       "      <td>0</td>\n",
       "    </tr>\n",
       "    <tr>\n",
       "      <th>1</th>\n",
       "      <td>1</td>\n",
       "      <td>http://bid.openx.net/json?amp;amp;amp;amp;cid;...</td>\n",
       "      <td>1</td>\n",
       "      <td>-4.914993</td>\n",
       "      <td>48</td>\n",
       "      <td>0</td>\n",
       "      <td>18</td>\n",
       "      <td>6</td>\n",
       "      <td>False</td>\n",
       "      <td>False</td>\n",
       "      <td>...</td>\n",
       "      <td>1</td>\n",
       "      <td>com</td>\n",
       "      <td>com</td>\n",
       "      <td>1</td>\n",
       "      <td>0</td>\n",
       "      <td>0</td>\n",
       "      <td>0</td>\n",
       "      <td>0</td>\n",
       "      <td>0</td>\n",
       "      <td>0</td>\n",
       "    </tr>\n",
       "    <tr>\n",
       "      <th>2</th>\n",
       "      <td>2</td>\n",
       "      <td>http://webmail2.centurytel.net/hwebmail/servic...</td>\n",
       "      <td>1</td>\n",
       "      <td>-4.952511</td>\n",
       "      <td>79</td>\n",
       "      <td>0</td>\n",
       "      <td>48</td>\n",
       "      <td>1</td>\n",
       "      <td>False</td>\n",
       "      <td>False</td>\n",
       "      <td>...</td>\n",
       "      <td>1</td>\n",
       "      <td>138</td>\n",
       "      <td>general</td>\n",
       "      <td>0</td>\n",
       "      <td>1</td>\n",
       "      <td>0</td>\n",
       "      <td>0</td>\n",
       "      <td>0</td>\n",
       "      <td>0</td>\n",
       "      <td>0</td>\n",
       "    </tr>\n",
       "    <tr>\n",
       "      <th>3</th>\n",
       "      <td>3</td>\n",
       "      <td>http://www.google.com.ng/imgres?imgurl=http://...</td>\n",
       "      <td>1</td>\n",
       "      <td>-4.746903</td>\n",
       "      <td>11</td>\n",
       "      <td>0</td>\n",
       "      <td>24</td>\n",
       "      <td>4</td>\n",
       "      <td>False</td>\n",
       "      <td>False</td>\n",
       "      <td>...</td>\n",
       "      <td>1</td>\n",
       "      <td></td>\n",
       "      <td>general</td>\n",
       "      <td>0</td>\n",
       "      <td>1</td>\n",
       "      <td>0</td>\n",
       "      <td>0</td>\n",
       "      <td>0</td>\n",
       "      <td>0</td>\n",
       "      <td>0</td>\n",
       "    </tr>\n",
       "    <tr>\n",
       "      <th>4</th>\n",
       "      <td>4</td>\n",
       "      <td>http://webmail2.centurytel.net/hwebmail/servic...</td>\n",
       "      <td>1</td>\n",
       "      <td>-4.923671</td>\n",
       "      <td>69</td>\n",
       "      <td>0</td>\n",
       "      <td>48</td>\n",
       "      <td>1</td>\n",
       "      <td>False</td>\n",
       "      <td>False</td>\n",
       "      <td>...</td>\n",
       "      <td>1</td>\n",
       "      <td>it</td>\n",
       "      <td>general</td>\n",
       "      <td>0</td>\n",
       "      <td>1</td>\n",
       "      <td>0</td>\n",
       "      <td>0</td>\n",
       "      <td>0</td>\n",
       "      <td>0</td>\n",
       "      <td>0</td>\n",
       "    </tr>\n",
       "    <tr>\n",
       "      <th>...</th>\n",
       "      <td>...</td>\n",
       "      <td>...</td>\n",
       "      <td>...</td>\n",
       "      <td>...</td>\n",
       "      <td>...</td>\n",
       "      <td>...</td>\n",
       "      <td>...</td>\n",
       "      <td>...</td>\n",
       "      <td>...</td>\n",
       "      <td>...</td>\n",
       "      <td>...</td>\n",
       "      <td>...</td>\n",
       "      <td>...</td>\n",
       "      <td>...</td>\n",
       "      <td>...</td>\n",
       "      <td>...</td>\n",
       "      <td>...</td>\n",
       "      <td>...</td>\n",
       "      <td>...</td>\n",
       "      <td>...</td>\n",
       "      <td>...</td>\n",
       "    </tr>\n",
       "    <tr>\n",
       "      <th>31225</th>\n",
       "      <td>15610</td>\n",
       "      <td>http://otomoto.pl/oferta/zuraw-farma-niab-pl-d...</td>\n",
       "      <td>0</td>\n",
       "      <td>-4.520081</td>\n",
       "      <td>2</td>\n",
       "      <td>0</td>\n",
       "      <td>138</td>\n",
       "      <td>1</td>\n",
       "      <td>False</td>\n",
       "      <td>False</td>\n",
       "      <td>...</td>\n",
       "      <td>0</td>\n",
       "      <td>html</td>\n",
       "      <td>html</td>\n",
       "      <td>0</td>\n",
       "      <td>0</td>\n",
       "      <td>0</td>\n",
       "      <td>1</td>\n",
       "      <td>0</td>\n",
       "      <td>0</td>\n",
       "      <td>0</td>\n",
       "    </tr>\n",
       "    <tr>\n",
       "      <th>31226</th>\n",
       "      <td>15611</td>\n",
       "      <td>https://medium.com/thelist/why-i-m-returning-t...</td>\n",
       "      <td>0</td>\n",
       "      <td>-4.618182</td>\n",
       "      <td>9</td>\n",
       "      <td>0</td>\n",
       "      <td>63</td>\n",
       "      <td>1</td>\n",
       "      <td>True</td>\n",
       "      <td>False</td>\n",
       "      <td>...</td>\n",
       "      <td>0</td>\n",
       "      <td>com</td>\n",
       "      <td>com</td>\n",
       "      <td>1</td>\n",
       "      <td>0</td>\n",
       "      <td>0</td>\n",
       "      <td>0</td>\n",
       "      <td>0</td>\n",
       "      <td>0</td>\n",
       "      <td>0</td>\n",
       "    </tr>\n",
       "    <tr>\n",
       "      <th>31227</th>\n",
       "      <td>15612</td>\n",
       "      <td>http://babal.net/books/view/406/%D9%82%D8%A7%D...</td>\n",
       "      <td>0</td>\n",
       "      <td>-3.704147</td>\n",
       "      <td>71</td>\n",
       "      <td>0</td>\n",
       "      <td>203</td>\n",
       "      <td>1</td>\n",
       "      <td>False</td>\n",
       "      <td>False</td>\n",
       "      <td>...</td>\n",
       "      <td>0</td>\n",
       "      <td>net</td>\n",
       "      <td>net</td>\n",
       "      <td>0</td>\n",
       "      <td>0</td>\n",
       "      <td>0</td>\n",
       "      <td>0</td>\n",
       "      <td>1</td>\n",
       "      <td>0</td>\n",
       "      <td>0</td>\n",
       "    </tr>\n",
       "    <tr>\n",
       "      <th>31228</th>\n",
       "      <td>15613</td>\n",
       "      <td>http://otomoto.pl/oferta/bmw-seria-3-bmw-e46-c...</td>\n",
       "      <td>0</td>\n",
       "      <td>-4.471543</td>\n",
       "      <td>11</td>\n",
       "      <td>0</td>\n",
       "      <td>76</td>\n",
       "      <td>1</td>\n",
       "      <td>False</td>\n",
       "      <td>False</td>\n",
       "      <td>...</td>\n",
       "      <td>0</td>\n",
       "      <td>html</td>\n",
       "      <td>html</td>\n",
       "      <td>0</td>\n",
       "      <td>0</td>\n",
       "      <td>0</td>\n",
       "      <td>1</td>\n",
       "      <td>0</td>\n",
       "      <td>0</td>\n",
       "      <td>0</td>\n",
       "    </tr>\n",
       "    <tr>\n",
       "      <th>31229</th>\n",
       "      <td>15614</td>\n",
       "      <td>http://bdnews24.com/bangladesh/2015/05/12/susp...</td>\n",
       "      <td>0</td>\n",
       "      <td>-4.685562</td>\n",
       "      <td>10</td>\n",
       "      <td>0</td>\n",
       "      <td>92</td>\n",
       "      <td>1</td>\n",
       "      <td>False</td>\n",
       "      <td>False</td>\n",
       "      <td>...</td>\n",
       "      <td>0</td>\n",
       "      <td>com</td>\n",
       "      <td>com</td>\n",
       "      <td>1</td>\n",
       "      <td>0</td>\n",
       "      <td>0</td>\n",
       "      <td>0</td>\n",
       "      <td>0</td>\n",
       "      <td>0</td>\n",
       "      <td>0</td>\n",
       "    </tr>\n",
       "  </tbody>\n",
       "</table>\n",
       "<p>31230 rows × 24 columns</p>\n",
       "</div>"
      ],
      "text/plain": [
       "       index                                                url  label  \\\n",
       "0          0  http://v2.email-marketing.adminsimple.com/trac...      1   \n",
       "1          1  http://bid.openx.net/json?amp;amp;amp;amp;cid;...      1   \n",
       "2          2  http://webmail2.centurytel.net/hwebmail/servic...      1   \n",
       "3          3  http://www.google.com.ng/imgres?imgurl=http://...      1   \n",
       "4          4  http://webmail2.centurytel.net/hwebmail/servic...      1   \n",
       "...      ...                                                ...    ...   \n",
       "31225  15610  http://otomoto.pl/oferta/zuraw-farma-niab-pl-d...      0   \n",
       "31226  15611  https://medium.com/thelist/why-i-m-returning-t...      0   \n",
       "31227  15612  http://babal.net/books/view/406/%D9%82%D8%A7%D...      0   \n",
       "31228  15613  http://otomoto.pl/oferta/bmw-seria-3-bmw-e46-c...      0   \n",
       "31229  15614  http://bdnews24.com/bangladesh/2015/05/12/susp...      0   \n",
       "\n",
       "        entropy  num_digits  have_at_sign  url_length  num_parameters  \\\n",
       "0     -5.164845          45             0          45               6   \n",
       "1     -4.914993          48             0          18               6   \n",
       "2     -4.952511          79             0          48               1   \n",
       "3     -4.746903          11             0          24               4   \n",
       "4     -4.923671          69             0          48               1   \n",
       "...         ...         ...           ...         ...             ...   \n",
       "31225 -4.520081           2             0         138               1   \n",
       "31226 -4.618182           9             0          63               1   \n",
       "31227 -3.704147          71             0         203               1   \n",
       "31228 -4.471543          11             0          76               1   \n",
       "31229 -4.685562          10             0          92               1   \n",
       "\n",
       "       has_https  url_is_live  ...  num_under_score   ext  ext_relevant  com  \\\n",
       "0          False        False  ...                1   com           com    1   \n",
       "1          False        False  ...                1   com           com    1   \n",
       "2          False        False  ...                1   138       general    0   \n",
       "3          False        False  ...                1             general    0   \n",
       "4          False        False  ...                1    it       general    0   \n",
       "...          ...          ...  ...              ...   ...           ...  ...   \n",
       "31225      False        False  ...                0  html          html    0   \n",
       "31226       True        False  ...                0   com           com    1   \n",
       "31227      False        False  ...                0   net           net    0   \n",
       "31228      False        False  ...                0  html          html    0   \n",
       "31229      False        False  ...                0   com           com    1   \n",
       "\n",
       "       general htm html  net  php  uk  \n",
       "0            0   0    0    0    0   0  \n",
       "1            0   0    0    0    0   0  \n",
       "2            1   0    0    0    0   0  \n",
       "3            1   0    0    0    0   0  \n",
       "4            1   0    0    0    0   0  \n",
       "...        ...  ..  ...  ...  ...  ..  \n",
       "31225        0   0    1    0    0   0  \n",
       "31226        0   0    0    0    0   0  \n",
       "31227        0   0    0    1    0   0  \n",
       "31228        0   0    1    0    0   0  \n",
       "31229        0   0    0    0    0   0  \n",
       "\n",
       "[31230 rows x 24 columns]"
      ]
     },
     "execution_count": 252,
     "metadata": {},
     "output_type": "execute_result"
    }
   ],
   "source": [
    "url_features = UrlFeaturizer(\"www.google.com\")\n",
    "features = url_features.run()\n",
    "all_features = []\n",
    "columns = list(features.keys())\n",
    "df = df_phis_leg.copy()\n",
    "for i, row in tqdm(df.iterrows()):\n",
    "    url = row[\"url\"]\n",
    "    url_features = UrlFeaturizer(url)\n",
    "    features = url_features.run()       \n",
    "    all_features.append(list(features.values()))\n",
    "\n",
    "      \n",
    "df[columns] = all_features\n",
    "\n",
    "ext_relevant = [key for key,value in Counter(df[\"ext\"]).items() if value >500]\n",
    "df['ext_relevant'] = df['ext'].apply(lambda x: x if x in ext_relevant else 'general')\n",
    "df['ext_relevant'] = df['ext_relevant'].astype('category')\n",
    "\n",
    "df_ext_onehot_sklearn = df.copy()\n",
    "lb = LabelBinarizer()\n",
    "lb_results = lb.fit_transform(df_ext_onehot_sklearn['ext_relevant'])\n",
    "lb_results_df = pd.DataFrame(lb_results, columns=lb.classes_)\n",
    "\n",
    "result_df = pd.concat([df, lb_results_df], axis=1)\n",
    "result_df"
   ]
  },
  {
   "cell_type": "code",
   "execution_count": 253,
   "metadata": {},
   "outputs": [],
   "source": [
    "data = df\n",
    "objects = [i for i in data.columns if 'object' in str(data.dtypes[i])]\n",
    "booleans = [i for i in data.columns if 'bool' in str(data.dtypes[i])]\n",
    "ints = [i for i in data.columns if 'int' in str(data.dtypes[i]) or 'float' in str(data.dtypes[i])]"
   ]
  },
  {
   "cell_type": "code",
   "execution_count": 254,
   "metadata": {},
   "outputs": [
    {
     "data": {
      "text/plain": [
       "<AxesSubplot:>"
      ]
     },
     "execution_count": 254,
     "metadata": {},
     "output_type": "execute_result"
    },
    {
     "data": {
      "image/png": "[encoded data removed]",
      "text/plain": [
       "<Figure size 1440x1080 with 2 Axes>"
      ]
     },
     "metadata": {
      "needs_background": "light"
     },
     "output_type": "display_data"
    }
   ],
   "source": [
    "import numpy as np\n",
    "corr = data[ints+booleans].corr()\n",
    "# Generate a mask for the upper triangle\n",
    "mask = np.triu(np.ones_like(corr, dtype=np.bool))\n",
    "# Set up the matplotlib figure\n",
    "f, ax = plt.subplots(figsize=(20, 15))\n",
    "# Generate a custom diverging colormap\n",
    "cmap = sns.diverging_palette(220, 10, as_cmap=True)\n",
    "# Draw the heatmap with the mask and correct aspect ratio\n",
    "sns.heatmap(corr, mask=mask, cmap=cmap, vmax=.3, center=0,\n",
    "            square=True, linewidths=.5, cbar_kws={\"shrink\": .5}, annot=True)"
   ]
  },
  {
   "cell_type": "code",
   "execution_count": 257,
   "metadata": {},
   "outputs": [],
   "source": [
    "data = result_df.sample(frac=1).reset_index(drop=True)"
   ]
  },
  {
   "cell_type": "code",
   "execution_count": 258,
   "metadata": {},
   "outputs": [
    {
     "data": {
      "text/plain": [
       "((31230, 19), (31230,))"
      ]
     },
     "execution_count": 258,
     "metadata": {},
     "output_type": "execute_result"
    }
   ],
   "source": [
    "y = data['label']\n",
    "X = data.drop(['label',\"index\",\"url\",\"ext\", 'ext_relevant'],axis=1)\n",
    "X.shape, y.shape"
   ]
  },
  {
   "cell_type": "code",
   "execution_count": 259,
   "metadata": {},
   "outputs": [
    {
     "data": {
      "text/plain": [
       "((24984, 19), (6246, 19))"
      ]
     },
     "execution_count": 259,
     "metadata": {},
     "output_type": "execute_result"
    }
   ],
   "source": [
    "# Splitting the dataset into train and test sets: 80-20 split\n",
    "from sklearn.model_selection import train_test_split\n",
    "\n",
    "X_train, X_test, y_train, y_test = train_test_split(X, y, \n",
    "                                                    test_size = 0.2, random_state = 12)\n",
    "X_train.shape, X_test.shape"
   ]
  },
  {
   "cell_type": "markdown",
   "metadata": {},
   "source": [
    "# Models"
   ]
  },
  {
   "cell_type": "code",
   "execution_count": null,
   "metadata": {},
   "outputs": [],
   "source": [
    "def plot_confusion_matrix(conf_matrix):\n",
    "    ax= plt.subplot()\n",
    "    sns.heatmap(conf_matrix, annot=True, ax = ax, fmt='g')\n",
    "    ax.set_ylabel('Predicted labels')\n",
    "    ax.set_xlabel('True labels')\n",
    "    ax.set_title('Train Confusion Matrix') \n",
    "    ax.xaxis.set_ticklabels(['negative', 'positive']) \n",
    "    ax.yaxis.set_ticklabels(['negative', 'positive'])\n",
    "    \n",
    "def plot_feature_importances(n_features, feature_importances, columns):\n",
    "    plt.figure(figsize=(9,7))\n",
    "    plt.barh(range(n_features), feature_importances, align='center')\n",
    "    plt.yticks(np.arange(n_features), X_train.columns)\n",
    "    plt.xlabel(\"Feature importance\")\n",
    "    plt.ylabel(\"Feature\")\n",
    "    plt.show()"
   ]
  },
  {
   "cell_type": "code",
   "execution_count": 320,
   "metadata": {},
   "outputs": [],
   "source": [
    "# Creating holders to store the model performance results\n",
    "\n",
    "class ModelSummaryTable(object):\n",
    "    def __init__(self):\n",
    "        self.table = PrettyTable()\n",
    "        self.table.field_names = [\"Algorithm\", \"Train Accuracy\", \"Test Accuracy\", \"Max_depth\", \"n_estimators\"]\n",
    "    \n",
    "    def add_row(self, algo,accuracy,f1_score, max_depth = None, n_est = None):\n",
    "        self.table.add_row([algo, accuracy, f1_score,  max_depth, n_est])\n",
    "    \n",
    "    def show(self):\n",
    "        print(self.table)\n",
    "        \n",
    "summary_table =   ModelSummaryTable()      "
   ]
  },
  {
   "cell_type": "markdown",
   "metadata": {},
   "source": [
    "## Decision Tree"
   ]
  },
  {
   "cell_type": "code",
   "execution_count": 323,
   "metadata": {},
   "outputs": [
    {
     "data": {
      "text/plain": [
       "DecisionTreeClassifier(max_depth=10)"
      ]
     },
     "execution_count": 323,
     "metadata": {},
     "output_type": "execute_result"
    }
   ],
   "source": [
    "# Decision Tree model \n",
    "# instantiate the model \n",
    "tree = DecisionTreeClassifier(max_depth = 10)\n",
    "# fit the model \n",
    "tree.fit(X_train, y_train)"
   ]
  },
  {
   "cell_type": "code",
   "execution_count": 324,
   "metadata": {},
   "outputs": [],
   "source": [
    "#predicting the target value from the model for the samples\n",
    "y_test_tree = tree.predict(X_test)\n",
    "y_train_tree = tree.predict(X_train)"
   ]
  },
  {
   "cell_type": "code",
   "execution_count": 325,
   "metadata": {},
   "outputs": [
    {
     "name": "stdout",
     "output_type": "stream",
     "text": [
      "Decision Tree: Accuracy on training Data: 0.980\n",
      "Decision Tree: Accuracy on test Data: 0.967\n"
     ]
    }
   ],
   "source": [
    "#computing the accuracy of the model performance\n",
    "acc_train_tree = accuracy_score(y_train,y_train_tree)\n",
    "acc_test_tree = accuracy_score(y_test,y_test_tree)\n",
    "summary_table.add_row('Decision Tree', acc_train_tree, acc_test_tree, 10)\n",
    "print(\"Decision Tree: Accuracy on training Data: {:.3f}\".format(acc_train_tree))\n",
    "print(\"Decision Tree: Accuracy on test Data: {:.3f}\".format(acc_test_tree))"
   ]
  },
  {
   "cell_type": "code",
   "execution_count": 326,
   "metadata": {},
   "outputs": [
    {
     "data": {
      "image/png": "[encoded data removed]",
      "text/plain": [
       "<Figure size 648x504 with 1 Axes>"
      ]
     },
     "metadata": {
      "needs_background": "light"
     },
     "output_type": "display_data"
    }
   ],
   "source": [
    "plot_feature_importances(X_train.shape[1], tree.feature_importances_, X_train.columns)"
   ]
  },
  {
   "cell_type": "code",
   "execution_count": 315,
   "metadata": {},
   "outputs": [
    {
     "data": {
      "image/png": "[encoded data removed]",
      "text/plain": [
       "<Figure size 432x288 with 2 Axes>"
      ]
     },
     "metadata": {
      "needs_background": "light"
     },
     "output_type": "display_data"
    }
   ],
   "source": [
    "test_conf_matrix = confusion_matrix(y_test, y_test_tree)\n",
    "plot_confusion_matrix(test_conf_matrix)"
   ]
  },
  {
   "cell_type": "markdown",
   "metadata": {},
   "source": [
    "## Multilayer Perceptrons"
   ]
  },
  {
   "cell_type": "code",
   "execution_count": 327,
   "metadata": {},
   "outputs": [
    {
     "data": {
      "text/plain": [
       "MLPClassifier(alpha=0.001, hidden_layer_sizes=[100, 100, 100])"
      ]
     },
     "execution_count": 327,
     "metadata": {},
     "output_type": "execute_result"
    }
   ],
   "source": [
    "# Multilayer Perceptrons model\n",
    "\n",
    "# instantiate the model\n",
    "mlp = MLPClassifier(alpha=0.001, hidden_layer_sizes=([100,100,100]))\n",
    "# fit the model \n",
    "mlp.fit(X_train, y_train)"
   ]
  },
  {
   "cell_type": "code",
   "execution_count": 328,
   "metadata": {},
   "outputs": [],
   "source": [
    "#predicting the target value from the model for the samples\n",
    "y_test_mlp = mlp.predict(X_test)\n",
    "y_train_mlp = mlp.predict(X_train)"
   ]
  },
  {
   "cell_type": "code",
   "execution_count": 329,
   "metadata": {},
   "outputs": [
    {
     "name": "stdout",
     "output_type": "stream",
     "text": [
      "Multilayer Perceptrons: Accuracy on training Data: 0.991\n",
      "Multilayer Perceptrons: Accuracy on test Data: 0.980\n",
      "              precision    recall  f1-score   support\n",
      "\n",
      "           0       0.97      0.99      0.98      3108\n",
      "           1       0.99      0.97      0.98      3138\n",
      "\n",
      "    accuracy                           0.98      6246\n",
      "   macro avg       0.98      0.98      0.98      6246\n",
      "weighted avg       0.98      0.98      0.98      6246\n",
      "\n"
     ]
    }
   ],
   "source": [
    "#computing the accuracy of the model performance\n",
    "acc_train_mlp = accuracy_score(y_train,y_train_mlp)\n",
    "acc_test_mlp = accuracy_score(y_test,y_test_mlp)\n",
    "summary_table.add_row('Multilayer Perceptrons', acc_train_mlp, acc_test_mlp)\n",
    "print(\"Multilayer Perceptrons: Accuracy on training Data: {:.3f}\".format(acc_train_mlp))\n",
    "print(\"Multilayer Perceptrons: Accuracy on test Data: {:.3f}\".format(acc_test_mlp))\n",
    "class_report = classification_report(y_test, y_test_mlp)\n",
    "print(class_report)"
   ]
  },
  {
   "cell_type": "code",
   "execution_count": 314,
   "metadata": {},
   "outputs": [
    {
     "data": {
      "image/png": "[encoded data removed]",
      "text/plain": [
       "<Figure size 432x288 with 2 Axes>"
      ]
     },
     "metadata": {
      "needs_background": "light"
     },
     "output_type": "display_data"
    }
   ],
   "source": [
    "test_conf_matrix = confusion_matrix(y_test, y_test_mlp)\n",
    "plot_confusion_matrix(test_conf_matrix)"
   ]
  },
  {
   "cell_type": "markdown",
   "metadata": {},
   "source": [
    "## Random Forest"
   ]
  },
  {
   "cell_type": "code",
   "execution_count": 290,
   "metadata": {},
   "outputs": [
    {
     "data": {
      "text/plain": [
       "GridSearchCV(estimator=RandomForestClassifier(n_jobs=-1),\n",
       "             param_grid={'max_depth': [4, 8, 16],\n",
       "                         'n_estimators': [1, 2, 5, 10]},\n",
       "             scoring='roc_auc')"
      ]
     },
     "execution_count": 290,
     "metadata": {},
     "output_type": "execute_result"
    }
   ],
   "source": [
    "\n",
    "param_grid = {\n",
    " 'max_depth': [4, 8, 16],\n",
    " 'n_estimators': [1, 2, 5, 10]\n",
    "}\n",
    "rf = RandomForestClassifier(n_jobs=-1)\n",
    "clf = GridSearchCV(estimator = rf, param_grid = param_grid, scoring = 'roc_auc')\n",
    "clf.fit(X_train,y_train)\n"
   ]
  },
  {
   "cell_type": "code",
   "execution_count": 291,
   "metadata": {},
   "outputs": [
    {
     "data": {
      "text/plain": [
       "{'max_depth': 16, 'n_estimators': 10}"
      ]
     },
     "execution_count": 291,
     "metadata": {},
     "output_type": "execute_result"
    }
   ],
   "source": [
    "clf.best_params_"
   ]
  },
  {
   "cell_type": "code",
   "execution_count": 292,
   "metadata": {},
   "outputs": [],
   "source": [
    "rf_clf = RandomForestClassifier(max_depth = clf.best_params_['max_depth'], \n",
    "                                n_estimators=clf.best_params_['n_estimators'])\n",
    "rf_clf.fit(X_train,y_train)"
   ]
  },
  {
   "cell_type": "code",
   "execution_count": 318,
   "metadata": {},
   "outputs": [
    {
     "data": {
      "image/png": "[encoded data removed]",
      "text/plain": [
       "<Figure size 648x504 with 1 Axes>"
      ]
     },
     "metadata": {
      "needs_background": "light"
     },
     "output_type": "display_data"
    }
   ],
   "source": [
    "plot_feature_importances(X_train.shape[1], rf_clf.feature_importances_, X_train.columns)"
   ]
  },
  {
   "cell_type": "code",
   "execution_count": 321,
   "metadata": {},
   "outputs": [
    {
     "name": "stdout",
     "output_type": "stream",
     "text": [
      "Random Forest: Accuracy on training Data: 0.998\n",
      "Random Forest: Accuracy on test Data: 0.985\n"
     ]
    }
   ],
   "source": [
    "# Making predictions\n",
    "test_conf = rf_clf.predict(X_test)\n",
    "train_conf = rf_clf.predict(X_train)\n",
    "# computing the accuracy of the model performance\n",
    "acc_train_rf = accuracy_score(y_train, train_conf)\n",
    "acc_test_rf = accuracy_score(y_test, test_conf)\n",
    "summary_table.add_row('Random Forest', acc_train_rf, acc_test_rf, clf.best_params_['max_depth'], clf.best_params_['n_estimators'])\n",
    "print(\"Random Forest: Accuracy on training Data: {:.3f}\".format(acc_train_rf))\n",
    "print(\"Random Forest: Accuracy on test Data: {:.3f}\".format(acc_test_rf))"
   ]
  },
  {
   "cell_type": "code",
   "execution_count": 313,
   "metadata": {},
   "outputs": [
    {
     "data": {
      "image/png": "[encoded data removed]",
      "text/plain": [
       "<Figure size 432x288 with 2 Axes>"
      ]
     },
     "metadata": {
      "needs_background": "light"
     },
     "output_type": "display_data"
    }
   ],
   "source": [
    "plot_confusion_matrix(test_conf_matrix)"
   ]
  },
  {
   "cell_type": "markdown",
   "metadata": {},
   "source": [
    "# Summary"
   ]
  },
  {
   "cell_type": "code",
   "execution_count": 330,
   "metadata": {},
   "outputs": [
    {
     "name": "stdout",
     "output_type": "stream",
     "text": [
      "+------------------------+--------------------+--------------------+-----------+--------------+\n",
      "|       Algorithm        |   Train Accuracy   |   Test Accuracy    | Max_depth | n_estimators |\n",
      "+------------------------+--------------------+--------------------+-----------+--------------+\n",
      "|     Random Forest      | 0.9980387447966699 | 0.9849503682356708 |     16    |      10      |\n",
      "|     Decision Tree      | 0.9797070124879923 | 0.9674991994876722 |     10    |     None     |\n",
      "| Multilayer Perceptrons | 0.9906740313800833 | 0.9795068844060199 |    None   |     None     |\n",
      "+------------------------+--------------------+--------------------+-----------+--------------+\n"
     ]
    }
   ],
   "source": [
    "summary_table.show()"
   ]
  }
 ],
 "metadata": {
  "kernelspec": {
   "display_name": "Python 3",
   "language": "python",
   "name": "python3"
  },
  "language_info": {
   "codemirror_mode": {
    "name": "ipython",
    "version": 3
   },
   "file_extension": ".py",
   "mimetype": "text/x-python",
   "name": "python",
   "nbconvert_exporter": "python",
   "pygments_lexer": "ipython3",
   "version": "3.8.5"
  }
 },
 "nbformat": 4,
 "nbformat_minor": 4
}
